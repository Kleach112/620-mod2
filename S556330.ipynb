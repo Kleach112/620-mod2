{
 "cells": [
  {
   "cell_type": "markdown",
   "id": "1824a29b-cb8a-4088-98a5-55da09ca66e4",
   "metadata": {},
   "source": [
    "## Kim Leach"
   ]
  },
  {
   "cell_type": "code",
   "execution_count": 1,
   "id": "b3100d2c-140f-4622-a133-32fda69e511e",
   "metadata": {},
   "outputs": [
    {
     "name": "stdout",
     "output_type": "stream",
     "text": [
      "*      *\n",
      "**    **\n",
      "***  ***\n",
      "********\n"
     ]
    }
   ],
   "source": [
    "n = 4  # Number of rows\n",
    "\n",
    "for i in range(1, n+1):\n",
    "    # Print left half of the pattern\n",
    "    for j in range(i):\n",
    "        print('*', end='')\n",
    "    for j in range(2*(n-i)):\n",
    "        print(' ', end='')\n",
    "    \n",
    "    # Print right half of the pattern\n",
    "    for j in range(i):\n",
    "        print('*', end='')\n",
    "\n",
    "    print()  # Move to the next line\n"
   ]
  },
  {
   "cell_type": "markdown",
   "id": "97237a7e-6e93-4baf-bb6a-626fbf379133",
   "metadata": {},
   "source": [
    "I had trouble figuring out how to do this one and Chat GPT helped."
   ]
  },
  {
   "cell_type": "code",
   "execution_count": null,
   "id": "64c7b57d-3c5c-476d-9f89-3f024ac08c98",
   "metadata": {},
   "outputs": [],
   "source": []
  }
 ],
 "metadata": {
  "kernelspec": {
   "display_name": "Python 3 (ipykernel)",
   "language": "python",
   "name": "python3"
  },
  "language_info": {
   "codemirror_mode": {
    "name": "ipython",
    "version": 3
   },
   "file_extension": ".py",
   "mimetype": "text/x-python",
   "name": "python",
   "nbconvert_exporter": "python",
   "pygments_lexer": "ipython3",
   "version": "3.9.12"
  }
 },
 "nbformat": 4,
 "nbformat_minor": 5
}
